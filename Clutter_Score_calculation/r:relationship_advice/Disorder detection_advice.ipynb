{
 "cells": [
  {
   "cell_type": "code",
   "execution_count": 2,
   "id": "c62f8091",
   "metadata": {},
   "outputs": [
    {
     "name": "stdout",
     "output_type": "stream",
     "text": [
      "clutter_scalar_fc: 4.683687237509642\n",
      "clutter_scalar_se: 2.9853992567509122\n"
     ]
    }
   ],
   "source": [
    "from visual_clutter import Vlc\n",
    "from PIL import Image\n",
    "# make visual clutter object and load test map and set parameters\n",
    "clt = Vlc('Home_16.png', numlevels=3, contrast_filt_sigma=1, contrast_pool_sigma=3, color_pool_sigma=3)\n",
    "\n",
    "# get Feature Congestion clutter of a test map:\n",
    "clutter_scalar_fc, clutter_map_fc = clt.getClutter_FC(p=1, pix=1)\n",
    "\n",
    "# get Subband Entropy clutter of the test map:\n",
    "clutter_scalar_se = clt.getClutter_SE(wlevels=3, wght_chrom=0.0625)\n",
    "\n",
    "print(f'clutter_scalar_fc: {clutter_scalar_fc}')\n",
    "print(f'clutter_scalar_se: {clutter_scalar_se}')\n",
    "\n",
    "\n"
   ]
  },
  {
   "cell_type": "code",
   "execution_count": 3,
   "id": "0a199bda",
   "metadata": {},
   "outputs": [
    {
     "name": "stdout",
     "output_type": "stream",
     "text": [
      "clutter_scalar_fc: 5.111467914366863\n",
      "clutter_scalar_se: 3.1699786184986305\n"
     ]
    }
   ],
   "source": [
    "#2023_homescreen_with_pic_with_noreplie\n",
    "\n",
    "from visual_clutter import Vlc\n",
    "from PIL import Image\n",
    "# make visual clutter object and load test map and set parameters\n",
    "clt = Vlc('Home_17.png', numlevels=3, contrast_filt_sigma=1, contrast_pool_sigma=3, color_pool_sigma=3)\n",
    "\n",
    "# get Feature Congestion clutter of a test map:\n",
    "clutter_scalar_fc, clutter_map_fc = clt.getClutter_FC(p=1, pix=1)\n",
    "\n",
    "# get Subband Entropy clutter of the test map:\n",
    "clutter_scalar_se = clt.getClutter_SE(wlevels=3, wght_chrom=0.0625)\n",
    "\n",
    "print(f'clutter_scalar_fc: {clutter_scalar_fc}')\n",
    "print(f'clutter_scalar_se: {clutter_scalar_se}')\n",
    "\n",
    "# just compute and display color clutter map(s)\n",
    "#color_clutter = clt.colorClutter(color_pix=1)\n",
    "\n",
    "# just compute and display contrast clutter map(s)\n",
    "#contrast_clutter = clt.contrastClutter(contrast_pix=1)\n",
    "\n",
    "# just compute and display orientation clutter map(s)\n",
    "#orientation_clutter = clt.orientationClutter(orient_pix=1)"
   ]
  },
  {
   "cell_type": "code",
   "execution_count": 4,
   "id": "e34da4ed",
   "metadata": {},
   "outputs": [
    {
     "name": "stdout",
     "output_type": "stream",
     "text": [
      "clutter_scalar_fc: 4.107544146060334\n",
      "clutter_scalar_se: 2.765612682678478\n"
     ]
    }
   ],
   "source": [
    "from visual_clutter import Vlc\n",
    "from PIL import Image\n",
    "# make visual clutter object and load test map and set parameters\n",
    "clt = Vlc('Home_18.png', numlevels=3, contrast_filt_sigma=1, contrast_pool_sigma=3, color_pool_sigma=3)\n",
    "\n",
    "# get Feature Congestion clutter of a test map:\n",
    "clutter_scalar_fc, clutter_map_fc = clt.getClutter_FC(p=1, pix=1)\n",
    "\n",
    "# get Subband Entropy clutter of the test map:\n",
    "clutter_scalar_se = clt.getClutter_SE(wlevels=3, wght_chrom=0.0625)\n",
    "\n",
    "print(f'clutter_scalar_fc: {clutter_scalar_fc}')\n",
    "print(f'clutter_scalar_se: {clutter_scalar_se}')"
   ]
  },
  {
   "cell_type": "code",
   "execution_count": 5,
   "id": "67b06185",
   "metadata": {},
   "outputs": [
    {
     "name": "stdout",
     "output_type": "stream",
     "text": [
      "clutter_scalar_fc: 4.089825907958135\n",
      "clutter_scalar_se: 2.638452219720687\n"
     ]
    }
   ],
   "source": [
    "#reddit_comment_2018_ausgeschnitten\n",
    "from visual_clutter import Vlc\n",
    "from PIL import Image\n",
    "# make visual clutter object and load test map and set parameters\n",
    "clt = Vlc('Home_19.png', numlevels=3, contrast_filt_sigma=1, contrast_pool_sigma=3, color_pool_sigma=3)\n",
    "\n",
    "# get Feature Congestion clutter of a test map:\n",
    "clutter_scalar_fc, clutter_map_fc = clt.getClutter_FC(p=1, pix=1)\n",
    "\n",
    "# get Subband Entropy clutter of the test map:\n",
    "clutter_scalar_se = clt.getClutter_SE(wlevels=3, wght_chrom=0.0625)\n",
    "\n",
    "print(f'clutter_scalar_fc: {clutter_scalar_fc}')\n",
    "print(f'clutter_scalar_se: {clutter_scalar_se}')"
   ]
  },
  {
   "cell_type": "code",
   "execution_count": 6,
   "id": "dfdb24cd",
   "metadata": {},
   "outputs": [
    {
     "name": "stdout",
     "output_type": "stream",
     "text": [
      "clutter_scalar_fc: 3.9538947179079202\n",
      "clutter_scalar_se: 2.426531048150564\n"
     ]
    }
   ],
   "source": [
    "from visual_clutter import Vlc\n",
    "from PIL import Image\n",
    "# make visual clutter object and load test map and set parameters\n",
    "clt = Vlc('Home_20.png', numlevels=3, contrast_filt_sigma=1, contrast_pool_sigma=3, color_pool_sigma=3)\n",
    "\n",
    "# get Feature Congestion clutter of a test map:\n",
    "clutter_scalar_fc, clutter_map_fc = clt.getClutter_FC(p=1, pix=1)\n",
    "\n",
    "# get Subband Entropy clutter of the test map:\n",
    "clutter_scalar_se = clt.getClutter_SE(wlevels=3, wght_chrom=0.0625)\n",
    "\n",
    "print(f'clutter_scalar_fc: {clutter_scalar_fc}')\n",
    "print(f'clutter_scalar_se: {clutter_scalar_se}')\n",
    "\n"
   ]
  },
  {
   "cell_type": "code",
   "execution_count": 7,
   "id": "ebe64f3c",
   "metadata": {},
   "outputs": [
    {
     "name": "stdout",
     "output_type": "stream",
     "text": [
      "clutter_scalar_fc: 4.42430887803595\n",
      "clutter_scalar_se: 2.63741175160799\n"
     ]
    }
   ],
   "source": [
    "from visual_clutter import Vlc\n",
    "from PIL import Image\n",
    "# make visual clutter object and load test map and set parameters\n",
    "clt = Vlc('Home_21.png', numlevels=3, contrast_filt_sigma=1, contrast_pool_sigma=3, color_pool_sigma=3)\n",
    "\n",
    "# get Feature Congestion clutter of a test map:\n",
    "clutter_scalar_fc, clutter_map_fc = clt.getClutter_FC(p=1, pix=1)\n",
    "\n",
    "# get Subband Entropy clutter of the test map:\n",
    "clutter_scalar_se = clt.getClutter_SE(wlevels=3, wght_chrom=0.0625)‚\n",
    "\n",
    "print(f'clutter_scalar_fc: {clutter_scalar_fc}')\n",
    "print(f'clutter_scalar_se: {clutter_scalar_se}')"
   ]
  },
  {
   "cell_type": "code",
   "execution_count": 8,
   "id": "0481253f",
   "metadata": {},
   "outputs": [
    {
     "name": "stdout",
     "output_type": "stream",
     "text": [
      "clutter_scalar_fc: 4.973473865294386\n",
      "clutter_scalar_se: 3.021808359079791\n"
     ]
    }
   ],
   "source": [
    "from visual_clutter import Vlc\n",
    "from PIL import Image\n",
    "# make visual clutter object and load test map and set parameters\n",
    "clt = Vlc('Home_22.png', numlevels=3, contrast_filt_sigma=1, contrast_pool_sigma=3, color_pool_sigma=3)\n",
    "\n",
    "# get Feature Congestion clutter of a test map:\n",
    "clutter_scalar_fc, clutter_map_fc = clt.getClutter_FC(p=1, pix=1)\n",
    "\n",
    "# get Subband Entropy clutter of the test map:\n",
    "clutter_scalar_se = clt.getClutter_SE(wlevels=3, wght_chrom=0.0625)\n",
    "\n",
    "print(f'clutter_scalar_fc: {clutter_scalar_fc}')\n",
    "print(f'clutter_scalar_se: {clutter_scalar_se}')"
   ]
  }
 ],
 "metadata": {
  "kernelspec": {
   "display_name": "Python 3 (ipykernel)",
   "language": "python",
   "name": "python3"
  },
  "language_info": {
   "codemirror_mode": {
    "name": "ipython",
    "version": 3
   },
   "file_extension": ".py",
   "mimetype": "text/x-python",
   "name": "python",
   "nbconvert_exporter": "python",
   "pygments_lexer": "ipython3",
   "version": "3.9.7"
  }
 },
 "nbformat": 4,
 "nbformat_minor": 5
}
