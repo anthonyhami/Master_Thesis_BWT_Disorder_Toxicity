{
 "cells": [
  {
   "cell_type": "code",
   "execution_count": 4,
   "id": "c62f8091",
   "metadata": {},
   "outputs": [
    {
     "name": "stdout",
     "output_type": "stream",
     "text": [
      "clutter_scalar_fc: 4.487329789738684\n",
      "clutter_scalar_se: 3.338801719334141\n"
     ]
    }
   ],
   "source": [
    "from visual_clutter import Vlc\n",
    "from PIL import Image\n",
    "# make visual clutter object and load test map and set parameters\n",
    "clt = Vlc('Home_16.png', numlevels=3, contrast_filt_sigma=1, contrast_pool_sigma=3, color_pool_sigma=3)\n",
    "\n",
    "# get Feature Congestion clutter of a test map:\n",
    "clutter_scalar_fc, clutter_map_fc = clt.getClutter_FC(p=1, pix=1)\n",
    "\n",
    "# get Subband Entropy clutter of the test map:\n",
    "clutter_scalar_se = clt.getClutter_SE(wlevels=3, wght_chrom=0.0625)\n",
    "\n",
    "print(f'clutter_scalar_fc: {clutter_scalar_fc}')\n",
    "print(f'clutter_scalar_se: {clutter_scalar_se}')\n",
    "\n",
    "\n"
   ]
  },
  {
   "cell_type": "code",
   "execution_count": 5,
   "id": "0a199bda",
   "metadata": {},
   "outputs": [
    {
     "name": "stdout",
     "output_type": "stream",
     "text": [
      "clutter_scalar_fc: 4.60773126607105\n",
      "clutter_scalar_se: 3.3310835359380437\n"
     ]
    }
   ],
   "source": [
    "#2023_homescreen_with_pic_with_noreplie\n",
    "\n",
    "from visual_clutter import Vlc\n",
    "from PIL import Image\n",
    "# make visual clutter object and load test map and set parameters\n",
    "clt = Vlc('Home_17.png', numlevels=3, contrast_filt_sigma=1, contrast_pool_sigma=3, color_pool_sigma=3)\n",
    "\n",
    "# get Feature Congestion clutter of a test map:\n",
    "clutter_scalar_fc, clutter_map_fc = clt.getClutter_FC(p=1, pix=1)\n",
    "\n",
    "# get Subband Entropy clutter of the test map:\n",
    "clutter_scalar_se = clt.getClutter_SE(wlevels=3, wght_chrom=0.0625)\n",
    "\n",
    "print(f'clutter_scalar_fc: {clutter_scalar_fc}')\n",
    "print(f'clutter_scalar_se: {clutter_scalar_se}')\n",
    "\n",
    "# just compute and display color clutter map(s)\n",
    "#color_clutter = clt.colorClutter(color_pix=1)\n",
    "\n",
    "# just compute and display contrast clutter map(s)\n",
    "#contrast_clutter = clt.contrastClutter(contrast_pix=1)\n",
    "\n",
    "# just compute and display orientation clutter map(s)\n",
    "#orientation_clutter = clt.orientationClutter(orient_pix=1)"
   ]
  },
  {
   "cell_type": "code",
   "execution_count": 6,
   "id": "e34da4ed",
   "metadata": {},
   "outputs": [
    {
     "name": "stdout",
     "output_type": "stream",
     "text": [
      "clutter_scalar_fc: 4.355102063003345\n",
      "clutter_scalar_se: 2.8875277888559596\n"
     ]
    }
   ],
   "source": [
    "from visual_clutter import Vlc\n",
    "from PIL import Image\n",
    "# make visual clutter object and load test map and set parameters\n",
    "clt = Vlc('Home_18.png', numlevels=3, contrast_filt_sigma=1, contrast_pool_sigma=3, color_pool_sigma=3)\n",
    "\n",
    "# get Feature Congestion clutter of a test map:\n",
    "clutter_scalar_fc, clutter_map_fc = clt.getClutter_FC(p=1, pix=1)\n",
    "\n",
    "# get Subband Entropy clutter of the test map:\n",
    "clutter_scalar_se = clt.getClutter_SE(wlevels=3, wght_chrom=0.0625)\n",
    "\n",
    "print(f'clutter_scalar_fc: {clutter_scalar_fc}')\n",
    "print(f'clutter_scalar_se: {clutter_scalar_se}')"
   ]
  },
  {
   "cell_type": "code",
   "execution_count": 7,
   "id": "67b06185",
   "metadata": {},
   "outputs": [
    {
     "name": "stdout",
     "output_type": "stream",
     "text": [
      "clutter_scalar_fc: 4.000652819089982\n",
      "clutter_scalar_se: 2.798754718477591\n"
     ]
    }
   ],
   "source": [
    "#reddit_comment_2018_ausgeschnitten\n",
    "from visual_clutter import Vlc\n",
    "from PIL import Image\n",
    "# make visual clutter object and load test map and set parameters\n",
    "clt = Vlc('Home_19.png', numlevels=3, contrast_filt_sigma=1, contrast_pool_sigma=3, color_pool_sigma=3)\n",
    "\n",
    "# get Feature Congestion clutter of a test map:\n",
    "clutter_scalar_fc, clutter_map_fc = clt.getClutter_FC(p=1, pix=1)\n",
    "\n",
    "# get Subband Entropy clutter of the test map:\n",
    "clutter_scalar_se = clt.getClutter_SE(wlevels=3, wght_chrom=0.0625)\n",
    "\n",
    "print(f'clutter_scalar_fc: {clutter_scalar_fc}')\n",
    "print(f'clutter_scalar_se: {clutter_scalar_se}')"
   ]
  },
  {
   "cell_type": "code",
   "execution_count": 8,
   "id": "dfdb24cd",
   "metadata": {},
   "outputs": [
    {
     "name": "stdout",
     "output_type": "stream",
     "text": [
      "clutter_scalar_fc: 3.8521805982481974\n",
      "clutter_scalar_se: 2.7614039133462374\n"
     ]
    }
   ],
   "source": [
    "from visual_clutter import Vlc\n",
    "from PIL import Image\n",
    "# make visual clutter object and load test map and set parameters\n",
    "clt = Vlc('Home_20.png', numlevels=3, contrast_filt_sigma=1, contrast_pool_sigma=3, color_pool_sigma=3)\n",
    "\n",
    "# get Feature Congestion clutter of a test map:\n",
    "clutter_scalar_fc, clutter_map_fc = clt.getClutter_FC(p=1, pix=1)\n",
    "\n",
    "# get Subband Entropy clutter of the test map:\n",
    "clutter_scalar_se = clt.getClutter_SE(wlevels=3, wght_chrom=0.0625)\n",
    "\n",
    "print(f'clutter_scalar_fc: {clutter_scalar_fc}')\n",
    "print(f'clutter_scalar_se: {clutter_scalar_se}')\n",
    "\n",
    "# just compute and display color clutter map(s)\n",
    "color_clutter = clt.colorClutter(color_pix=1)\n",
    "\n",
    "# just compute and display contrast clutter map(s)\n",
    "contrast_clutter = clt.contrastClutter(contrast_pix=1)\n",
    "\n",
    "# just compute and display orientation clutter map(s)\n",
    "orientation_clutter = clt.orientationClutter(orient_pix=1)"
   ]
  },
  {
   "cell_type": "code",
   "execution_count": 9,
   "id": "ebe64f3c",
   "metadata": {},
   "outputs": [
    {
     "name": "stdout",
     "output_type": "stream",
     "text": [
      "clutter_scalar_fc: 4.058399528421241\n",
      "clutter_scalar_se: 2.824793403893286\n"
     ]
    }
   ],
   "source": [
    "from visual_clutter import Vlc\n",
    "from PIL import Image\n",
    "# make visual clutter object and load test map and set parameters\n",
    "clt = Vlc('Home_21.png', numlevels=3, contrast_filt_sigma=1, contrast_pool_sigma=3, color_pool_sigma=3)\n",
    "\n",
    "# get Feature Congestion clutter of a test map:\n",
    "clutter_scalar_fc, clutter_map_fc = clt.getClutter_FC(p=1, pix=1)\n",
    "\n",
    "# get Subband Entropy clutter of the test map:\n",
    "clutter_scalar_se = clt.getClutter_SE(wlevels=3, wght_chrom=0.0625)\n",
    "\n",
    "print(f'clutter_scalar_fc: {clutter_scalar_fc}')\n",
    "print(f'clutter_scalar_se: {clutter_scalar_se}')"
   ]
  },
  {
   "cell_type": "code",
   "execution_count": 10,
   "id": "0481253f",
   "metadata": {},
   "outputs": [
    {
     "name": "stdout",
     "output_type": "stream",
     "text": [
      "clutter_scalar_fc: 4.251701079713626\n",
      "clutter_scalar_se: 3.0457977213897043\n"
     ]
    }
   ],
   "source": [
    "from visual_clutter import Vlc\n",
    "from PIL import Image\n",
    "# make visual clutter object and load test map and set parameters\n",
    "clt = Vlc('Home_22.png', numlevels=3, contrast_filt_sigma=1, contrast_pool_sigma=3, color_pool_sigma=3)\n",
    "\n",
    "# get Feature Congestion clutter of a test map:\n",
    "clutter_scalar_fc, clutter_map_fc = clt.getClutter_FC(p=1, pix=1)\n",
    "\n",
    "# get Subband Entropy clutter of the test map:\n",
    "clutter_scalar_se = clt.getClutter_SE(wlevels=3, wght_chrom=0.0625)\n",
    "\n",
    "print(f'clutter_scalar_fc: {clutter_scalar_fc}')\n",
    "print(f'clutter_scalar_se: {clutter_scalar_se}')"
   ]
  }
 ],
 "metadata": {
  "kernelspec": {
   "display_name": "Python 3 (ipykernel)",
   "language": "python",
   "name": "python3"
  },
  "language_info": {
   "codemirror_mode": {
    "name": "ipython",
    "version": 3
   },
   "file_extension": ".py",
   "mimetype": "text/x-python",
   "name": "python",
   "nbconvert_exporter": "python",
   "pygments_lexer": "ipython3",
   "version": "3.9.7"
  }
 },
 "nbformat": 4,
 "nbformat_minor": 5
}
